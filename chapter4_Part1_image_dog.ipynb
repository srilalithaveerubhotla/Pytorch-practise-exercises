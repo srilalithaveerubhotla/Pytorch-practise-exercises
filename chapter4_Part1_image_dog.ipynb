{
  "nbformat": 4,
  "nbformat_minor": 0,
  "metadata": {
    "kernelspec": {
      "display_name": "Python 3",
      "language": "python",
      "name": "python3"
    },
    "language_info": {
      "codemirror_mode": {
        "name": "ipython",
        "version": 3
      },
      "file_extension": ".py",
      "mimetype": "text/x-python",
      "name": "python",
      "nbconvert_exporter": "python",
      "pygments_lexer": "ipython3",
      "version": "3.7.6"
    },
    "colab": {
      "name": "chapter4_Part1_image_dog.ipynb",
      "provenance": [],
      "collapsed_sections": [],
      "include_colab_link": true
    },
    "accelerator": "GPU"
  },
  "cells": [
    {
      "cell_type": "markdown",
      "metadata": {
        "id": "view-in-github",
        "colab_type": "text"
      },
      "source": [
        "<a href=\"https://colab.research.google.com/github/srilalithaveerubhotla/Pytorch-practise-exercises/blob/master/chapter4_Part1_image_dog.ipynb\" target=\"_parent\"><img src=\"https://colab.research.google.com/assets/colab-badge.svg\" alt=\"Open In Colab\"/></a>"
      ]
    },
    {
      "cell_type": "code",
      "metadata": {
        "id": "U-GK1OfhvY5p",
        "colab_type": "code",
        "colab": {}
      },
      "source": [
        "import numpy as np\n",
        "import torch\n",
        "torch.set_printoptions(edgeitems=2, threshold=50)"
      ],
      "execution_count": 0,
      "outputs": []
    },
    {
      "cell_type": "markdown",
      "metadata": {
        "id": "dUwdSzOrv-gZ",
        "colab_type": "text"
      },
      "source": [
        "#Read Image and store in array"
      ]
    },
    {
      "cell_type": "code",
      "metadata": {
        "id": "A_EOKhG5vY5t",
        "colab_type": "code",
        "outputId": "b4261c5b-f9e8-4ff5-d17d-153561235a35",
        "colab": {
          "base_uri": "https://localhost:8080/",
          "height": 35
        }
      },
      "source": [
        "import imageio\n",
        "\n",
        "img_arr = imageio.imread('/content/bobby.jpg')\n",
        "img_arr.shape"
      ],
      "execution_count": 0,
      "outputs": [
        {
          "output_type": "execute_result",
          "data": {
            "text/plain": [
              "(720, 1280, 3)"
            ]
          },
          "metadata": {
            "tags": []
          },
          "execution_count": 3
        }
      ]
    },
    {
      "cell_type": "code",
      "metadata": {
        "id": "_ZA1YENvvcWw",
        "colab_type": "code",
        "outputId": "7dc94fb0-94ab-4081-b3bd-5e195eb2468a",
        "colab": {
          "base_uri": "https://localhost:8080/",
          "height": 888
        }
      },
      "source": [
        "img_arr"
      ],
      "execution_count": 0,
      "outputs": [
        {
          "output_type": "execute_result",
          "data": {
            "text/plain": [
              "Array([[[ 77,  45,  22],\n",
              "        [ 77,  45,  22],\n",
              "        [ 78,  46,  21],\n",
              "        ...,\n",
              "        [118,  78,  52],\n",
              "        [117,  77,  51],\n",
              "        [116,  76,  51]],\n",
              "\n",
              "       [[ 75,  43,  20],\n",
              "        [ 76,  44,  21],\n",
              "        [ 77,  45,  20],\n",
              "        ...,\n",
              "        [118,  78,  52],\n",
              "        [117,  77,  51],\n",
              "        [116,  76,  50]],\n",
              "\n",
              "       [[ 74,  39,  17],\n",
              "        [ 75,  41,  16],\n",
              "        [ 77,  43,  18],\n",
              "        ...,\n",
              "        [119,  80,  51],\n",
              "        [117,  77,  51],\n",
              "        [116,  76,  50]],\n",
              "\n",
              "       ...,\n",
              "\n",
              "       [[215, 165,  78],\n",
              "        [216, 166,  79],\n",
              "        [217, 167,  80],\n",
              "        ...,\n",
              "        [172, 122,  51],\n",
              "        [174, 124,  53],\n",
              "        [174, 124,  53]],\n",
              "\n",
              "       [[215, 165,  78],\n",
              "        [216, 166,  79],\n",
              "        [217, 167,  80],\n",
              "        ...,\n",
              "        [173, 123,  54],\n",
              "        [174, 124,  55],\n",
              "        [174, 124,  55]],\n",
              "\n",
              "       [[215, 165,  78],\n",
              "        [216, 166,  79],\n",
              "        [217, 167,  80],\n",
              "        ...,\n",
              "        [159, 108,  42],\n",
              "        [158, 107,  41],\n",
              "        [158, 107,  41]]], dtype=uint8)"
            ]
          },
          "metadata": {
            "tags": []
          },
          "execution_count": 5
        }
      ]
    },
    {
      "cell_type": "code",
      "metadata": {
        "id": "2Z76MBYhvY5x",
        "colab_type": "code",
        "colab": {}
      },
      "source": [
        "img = torch.from_numpy(img_arr)\n",
        "out = img.permute(2, 0, 1)"
      ],
      "execution_count": 0,
      "outputs": []
    },
    {
      "cell_type": "code",
      "metadata": {
        "id": "ONT5JvUovY51",
        "colab_type": "code",
        "colab": {}
      },
      "source": [
        "batch_size = 3\n",
        "batch = torch.zeros(batch_size, 3, 256, 256, dtype=torch.uint8)"
      ],
      "execution_count": 0,
      "outputs": []
    },
    {
      "cell_type": "markdown",
      "metadata": {
        "id": "U9avmfNTwGK5",
        "colab_type": "text"
      },
      "source": [
        "#Read images from directory"
      ]
    },
    {
      "cell_type": "code",
      "metadata": {
        "scrolled": true,
        "id": "diHgD0YMvY56",
        "colab_type": "code",
        "colab": {}
      },
      "source": [
        "import os\n",
        "\n",
        "data_dir = '/content/image-cats/'\n",
        "filenames = [name for name in os.listdir(data_dir) if os.path.splitext(name)[-1] == '.png']\n",
        "for i, filename in enumerate(filenames):\n",
        "    img_arr = imageio.imread(os.path.join(data_dir, filename))\n",
        "    img_t = torch.from_numpy(img_arr)\n",
        "    img_t = img_t.permute(2, 0, 1)\n",
        "    img_t = img_t[:3] # <1>\n",
        "    batch[i] = img_t"
      ],
      "execution_count": 0,
      "outputs": []
    },
    {
      "cell_type": "markdown",
      "metadata": {
        "id": "a4OZekGjwNYG",
        "colab_type": "text"
      },
      "source": [
        "#Define Batch"
      ]
    },
    {
      "cell_type": "code",
      "metadata": {
        "id": "3CTZVOfqvY5-",
        "colab_type": "code",
        "colab": {}
      },
      "source": [
        "batch = batch.float()\n",
        "batch /= 255.0"
      ],
      "execution_count": 0,
      "outputs": []
    },
    {
      "cell_type": "code",
      "metadata": {
        "id": "tKN72q9fvY6D",
        "colab_type": "code",
        "colab": {}
      },
      "source": [
        "n_channels = batch.shape[1]\n",
        "for c in range(n_channels):\n",
        "    mean = torch.mean(batch[:, c])\n",
        "    std = torch.std(batch[:, c])\n",
        "    batch[:, c] = (batch[:, c] - mean) / std"
      ],
      "execution_count": 0,
      "outputs": []
    }
  ]
}