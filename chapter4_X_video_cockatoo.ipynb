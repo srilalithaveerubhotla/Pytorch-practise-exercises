{
  "nbformat": 4,
  "nbformat_minor": 0,
  "metadata": {
    "kernelspec": {
      "display_name": "Python 3",
      "language": "python",
      "name": "python3"
    },
    "language_info": {
      "codemirror_mode": {
        "name": "ipython",
        "version": 3
      },
      "file_extension": ".py",
      "mimetype": "text/x-python",
      "name": "python",
      "nbconvert_exporter": "python",
      "pygments_lexer": "ipython3",
      "version": "3.6.6"
    },
    "colab": {
      "name": "chapter4_X_video_cockatoo.ipynb",
      "provenance": [],
      "include_colab_link": true
    }
  },
  "cells": [
    {
      "cell_type": "markdown",
      "metadata": {
        "id": "view-in-github",
        "colab_type": "text"
      },
      "source": [
        "<a href=\"https://colab.research.google.com/github/srilalithaveerubhotla/Pytorch-practise-exercises/blob/master/chapter4_X_video_cockatoo.ipynb\" target=\"_parent\"><img src=\"https://colab.research.google.com/assets/colab-badge.svg\" alt=\"Open In Colab\"/></a>"
      ]
    },
    {
      "cell_type": "markdown",
      "metadata": {
        "id": "W1xaG7pvLOg3",
        "colab_type": "text"
      },
      "source": [
        "Video\n",
        "===="
      ]
    },
    {
      "cell_type": "code",
      "metadata": {
        "id": "S7ni3np-LOg7",
        "colab_type": "code",
        "colab": {}
      },
      "source": [
        "import numpy as np\n",
        "import torch\n",
        "torch.set_printoptions(edgeitems=2, threshold=50)"
      ],
      "execution_count": 0,
      "outputs": []
    },
    {
      "cell_type": "code",
      "metadata": {
        "id": "4C_VASwpLOhD",
        "colab_type": "code",
        "outputId": "e0641632-962a-405e-ce87-b2d66025ffc0",
        "colab": {}
      },
      "source": [
        "import imageio\n",
        "\n",
        "reader = imageio.get_reader('../data/p1ch4/video-cockatoo/cockatoo.mp4')\n",
        "meta = reader.get_meta_data()\n",
        "meta"
      ],
      "execution_count": 0,
      "outputs": [
        {
          "output_type": "execute_result",
          "data": {
            "text/plain": [
              "{'plugin': 'ffmpeg',\n",
              " 'nframes': 280,\n",
              " 'ffmpeg_version': '4.1 built with gcc 8.2.1 (GCC) 20181017',\n",
              " 'fps': 20.0,\n",
              " 'source_size': (1280, 720),\n",
              " 'size': (1280, 720),\n",
              " 'duration': 14.0}"
            ]
          },
          "metadata": {
            "tags": []
          },
          "execution_count": 2
        }
      ]
    },
    {
      "cell_type": "code",
      "metadata": {
        "id": "AZVJb36dLOhN",
        "colab_type": "code",
        "outputId": "49ae3a97-9882-4b0b-9d58-bace914630ed",
        "colab": {}
      },
      "source": [
        "n_channels = 3\n",
        "n_frames = meta['nframes']\n",
        "video = torch.empty(n_channels, n_frames, *meta['size'])\n",
        "\n",
        "video.shape"
      ],
      "execution_count": 0,
      "outputs": [
        {
          "output_type": "execute_result",
          "data": {
            "text/plain": [
              "torch.Size([3, 280, 1280, 720])"
            ]
          },
          "metadata": {
            "tags": []
          },
          "execution_count": 3
        }
      ]
    },
    {
      "cell_type": "code",
      "metadata": {
        "id": "NBDh6pUALOhV",
        "colab_type": "code",
        "colab": {}
      },
      "source": [
        "for i, frame_arr in enumerate(reader):\n",
        "    frame = torch.from_numpy(frame_arr).float()\n",
        "    video[:, i] = torch.transpose(frame, 0, 2)"
      ],
      "execution_count": 0,
      "outputs": []
    },
    {
      "cell_type": "code",
      "metadata": {
        "id": "bfbR05zHLOhd",
        "colab_type": "code",
        "outputId": "2ff0bf23-fbdf-409b-a059-7fc6eab297a4",
        "colab": {}
      },
      "source": [
        "time_video = torch.empty(n_frames, n_channels, *meta['size'])\n",
        "\n",
        "for i, frame in enumerate(reader):\n",
        "    frame = torch.from_numpy(frame).float()\n",
        "    time_video[i] = torch.transpose(frame, 0, 2)\n",
        "\n",
        "time_video.shape"
      ],
      "execution_count": 0,
      "outputs": [
        {
          "output_type": "execute_result",
          "data": {
            "text/plain": [
              "torch.Size([280, 3, 1280, 720])"
            ]
          },
          "metadata": {
            "tags": []
          },
          "execution_count": 5
        }
      ]
    }
  ]
}