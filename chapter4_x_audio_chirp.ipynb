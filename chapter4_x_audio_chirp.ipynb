{
  "nbformat": 4,
  "nbformat_minor": 0,
  "metadata": {
    "kernelspec": {
      "display_name": "Python 3",
      "language": "python",
      "name": "python3"
    },
    "language_info": {
      "codemirror_mode": {
        "name": "ipython",
        "version": 3
      },
      "file_extension": ".py",
      "mimetype": "text/x-python",
      "name": "python",
      "nbconvert_exporter": "python",
      "pygments_lexer": "ipython3",
      "version": "3.6.6"
    },
    "colab": {
      "name": "chapter4_x_audio_chirp.ipynb",
      "provenance": [],
      "include_colab_link": true
    }
  },
  "cells": [
    {
      "cell_type": "markdown",
      "metadata": {
        "id": "view-in-github",
        "colab_type": "text"
      },
      "source": [
        "<a href=\"https://colab.research.google.com/github/srilalithaveerubhotla/Pytorch-practise-exercises/blob/master/chapter4_x_audio_chirp.ipynb\" target=\"_parent\"><img src=\"https://colab.research.google.com/assets/colab-badge.svg\" alt=\"Open In Colab\"/></a>"
      ]
    },
    {
      "cell_type": "markdown",
      "metadata": {
        "id": "CIflhv53KdUW",
        "colab_type": "text"
      },
      "source": [
        "Audio\n",
        "===="
      ]
    },
    {
      "cell_type": "code",
      "metadata": {
        "id": "xV6n4x7PKdUY",
        "colab_type": "code",
        "colab": {}
      },
      "source": [
        "import numpy as np\n",
        "import torch\n",
        "torch.set_printoptions(edgeitems=2, threshold=50)"
      ],
      "execution_count": 0,
      "outputs": []
    },
    {
      "cell_type": "code",
      "metadata": {
        "id": "PsvWpEywKdUf",
        "colab_type": "code",
        "outputId": "f3321bc2-c2eb-4f39-a6ff-78140e782b19",
        "colab": {}
      },
      "source": [
        "import scipy.io.wavfile as wavfile\n",
        "\n",
        "freq, waveform_arr = wavfile.read('../data/p1ch4/audio-chirp/1-100038-A-14.wav')\n",
        "freq, waveform_arr"
      ],
      "execution_count": 0,
      "outputs": [
        {
          "output_type": "execute_result",
          "data": {
            "text/plain": [
              "(44100, array([ -388, -3387, -4634, ...,  2289,  1327,    90], dtype=int16))"
            ]
          },
          "metadata": {
            "tags": []
          },
          "execution_count": 2
        }
      ]
    },
    {
      "cell_type": "code",
      "metadata": {
        "id": "tIBSBNMxKdUn",
        "colab_type": "code",
        "outputId": "c334ae25-8459-416b-af94-b96e02a3fd57",
        "colab": {}
      },
      "source": [
        "waveform = torch.from_numpy(waveform_arr).float()\n",
        "waveform.shape"
      ],
      "execution_count": 0,
      "outputs": [
        {
          "output_type": "execute_result",
          "data": {
            "text/plain": [
              "torch.Size([220500])"
            ]
          },
          "metadata": {
            "tags": []
          },
          "execution_count": 3
        }
      ]
    },
    {
      "cell_type": "code",
      "metadata": {
        "id": "DzI0uoRVKdUs",
        "colab_type": "code",
        "outputId": "b67a99cd-1d16-4bcb-cb88-89f420df458c",
        "colab": {}
      },
      "source": [
        "from scipy import signal\n",
        "\n",
        "f_arr, t_arr, sp_arr = signal.spectrogram(waveform_arr, freq)\n",
        "\n",
        "sp_mono = torch.from_numpy(sp_arr)\n",
        "sp_mono.shape"
      ],
      "execution_count": 0,
      "outputs": [
        {
          "output_type": "execute_result",
          "data": {
            "text/plain": [
              "torch.Size([129, 984])"
            ]
          },
          "metadata": {
            "tags": []
          },
          "execution_count": 4
        }
      ]
    },
    {
      "cell_type": "code",
      "metadata": {
        "id": "ImltbVwrKdUy",
        "colab_type": "code",
        "outputId": "2ff84921-3b19-4139-f9be-a6301982f340",
        "colab": {}
      },
      "source": [
        "sp_left = sp_right = sp_arr\n",
        "sp_left_t = torch.from_numpy(sp_left)\n",
        "sp_right_t = torch.from_numpy(sp_right)\n",
        "sp_left_t.shape, sp_right_t.shape"
      ],
      "execution_count": 0,
      "outputs": [
        {
          "output_type": "execute_result",
          "data": {
            "text/plain": [
              "(torch.Size([129, 984]), torch.Size([129, 984]))"
            ]
          },
          "metadata": {
            "tags": []
          },
          "execution_count": 5
        }
      ]
    },
    {
      "cell_type": "code",
      "metadata": {
        "id": "fvhS18W4KdU3",
        "colab_type": "code",
        "outputId": "f22da549-6f09-45e8-9c6b-71f14a509b13",
        "colab": {}
      },
      "source": [
        "sp_t = torch.stack((sp_left_t, sp_right_t), dim=0)\n",
        "sp_t.shape"
      ],
      "execution_count": 0,
      "outputs": [
        {
          "output_type": "execute_result",
          "data": {
            "text/plain": [
              "torch.Size([2, 129, 984])"
            ]
          },
          "metadata": {
            "tags": []
          },
          "execution_count": 6
        }
      ]
    }
  ]
}